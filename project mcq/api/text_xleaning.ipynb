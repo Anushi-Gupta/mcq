{
 "cells": [
  {
   "cell_type": "code",
   "execution_count": 16,
   "metadata": {},
   "outputs": [],
   "source": [
    "from get_text_ppt import *"
   ]
  },
  {
   "cell_type": "code",
   "execution_count": 17,
   "metadata": {},
   "outputs": [
    {
     "name": "stdout",
     "output_type": "stream",
     "text": [
      "[' Capabilities  & Core Services Let’s make life better. 1 Rigil Corporation is a leading-edge solutions  company delivering strategy and technology  services, and products to our Federal customers. Let’s make life better! www.rigil.com 4 Company Introduction Services and Products Services Technology Information Technology Services IT Modernization Strategy Financial Management Human Capital and Training Solutions (HCaTS) Management Consulting Products iViews™ StrataGem™ Let’s make life better! www.rigil.com 4 Technology Services: Information Technology Services Legacy apps support and modernization DevOps/Agile-based application development Mission-oriented Mobile App Development Cloud migration & management Data Analysis Infrastructure management/Services Cybersecurity & information assurance 24x7 Help Desk support Customers: DOC, FAA, GSA, NASA Let’s make life better! www.rigil.com 4 Process and system analysis, improvement &  optimization Artiﬁcial intelligence & machine learning Cloud migration & management DevOps/DevSecOps Big Data Analysis Enterprise Architecture & inventory /  portfolio management Support for new & evolving technologies Technology Services: IT Modernization Customers: FAA, DOC Let’s make life better! www.rigil.com 5 Management & training solutions that raise  workforce engagement, improve customer  experience & deliver long term value. Coaching & team building Organizational development Gamiﬁcation of training content Facilitation Performance metrics formulation & measurement Strategy Services: Human Capital and Training Solutions  Customers: FAA, DOC Let’s make life better! www.rigil.com 6 Facilitation of large groups & leadership teams Business Process Analysis, Reengineering &  Management PMO support Technology Business Management (TBM) consulting Strategic consulting that results in vision/strategy &  roadmaps to advance organizations Cost-beneﬁt analysis Administrative support for executives & managers Change management & communications support Strategy Services: Management Consulting Customers: DHS, DOC, DOL, DOJ, FAA Let’s make life better! www.rigil.com 7 Rigil Services: Financial Management  Budget management Accounts Payable Invoice processing Cost/beneﬁt analysis Earned Value Management  with analysis Customers: , DOC, DOL, FAA, NOAA Let’s make life better! www.rigil.com 8 Rigil Products - iViews™  iViewsTM is a workﬂow automation platform designed to enable collaboration among  distributed teams, tools, systems and processes. iViewsTM removes redundancy,  increases eﬃciency and provides relevant information for you and your stakeholders at  the right place, in the right format and the right time.  Functional Areas TBM automation Budget Planning Budget Execution Budget Spend Management Contract Records Management Program Performance Management Invoicing Management Budget Performance Reporting Customers: DOC, FAA Let’s make life better! www.rigil.com 10 Key Beneﬁts: Let’s make life better! www.rigil.com 10 course-correcting decisions Contract Oﬃcers TBM automation - AI based TBM module automates TBM categorization of data Real Time Budget Spend Management - Eﬀective storage, update and tracking of programs’ spending proﬁles Data Call Management - Ability to aggregate programs budget, contracts, & program data accessible quickly Eﬃcient Data Integration - Integration and management of budget data and contract records allowing for daily spend tracking,  invoicing processing, and seamless contracts renewals, closeouts, etc. Budget & Contract Data Transparency - Tailoring of Budget Dashboards and Spend Status Reports Eﬀective Budget Governance - Accurate status update reporting allows leadership to anticipate events and proactively make  Data Analytics - Ability to conduct budget trending and forecasting analysis quickly and accurately down to spending  single-line-items Contract Records Management - Single repository for all contract records. Data updated and stored in real time. Data Accuracy - Budget and Contracts data is current, accurate and reliable Collaboration Platform - Seamless process workﬂow management between key roles: Budget Analysts, Program Managers and  System Conﬁgurability - Modular design allows for functional improvement and/or customization quickly added to current  platform Data Accessibility - Cloud Based System allows access to budget and contract data from anywhere and from any authorized device Rigil Products - iViews™ Rigil Products - StrataGem™  Mission-Oriented Gaming Platform   Gamiﬁcation of mission-based training content Mobile delivery Device agnostic - iPad, Android, Web Enterprise data store Results-driven Leaderboards & Dashboards Scaﬀolded & Adaptive Learning Learner & Trainer focused eLearning Platform Trainer content addition/changes made easy Local content can be added or updated on the spot  Customers: , FAA, Navy Let’s make life better! www.rigil.com 10 Rigil Major IDIQ/GWAC Vehicles Let’s make life better! www.rigil.com 10 About Rigil        Key clients:      DCAA-audited Accounting System Facility Clearance 🡪 Top Secret Woman-Owned Small Business (WOSB) Minority-Owned Business SBA Economically Disadvantaged Woman-Owned Small Business (EDWOSB) DUNS: 786713599 CAGE: 4Q2V4 NAICS: 541519, 518210, 541219, 541330, 541511, 541512, 541513, 541611, 541618, 541990, 561110, 611420, 611430 Let’s make life better! www.rigil.com 10']\n"
     ]
    }
   ],
   "source": [
    "text_data=data_extractor(\"Rigil Capabilities External  (1)-converted.pptx\")"
   ]
  },
  {
   "cell_type": "code",
   "execution_count": 18,
   "metadata": {},
   "outputs": [
    {
     "data": {
      "text/plain": [
       "' Capabilities & Core Services Lets make life better.  Rigil Corporation is a leading-edge solutions company delivering strategy and technology services and products to our Federal customers. Lets make life better! rigil  Company Introduction Services and Products Services Technology Information Technology Services IT Modernization Strategy Financial Management Human Capital and Training Solutions (HCaTS) Management Consulting Products iViews StrataGem Lets make life better! rigil  Technology Services: Information Technology Services Legacy apps support and modernization DevOps/Agile-based application development Mission-oriented Mobile App Development Cloud migration & management Data Analysis Infrastructure management/Services Cybersecurity & information assurance x Help Desk support Customers: DOC FAA GSA NASA Lets make life better! rigil  Process and system analysis improvement & optimization Artiﬁcial intelligence & machine learning Cloud migration & management DevOps/DevSecOps Big Data Analysis Enterprise Architecture & inventory / portfolio management Support for new & evolving technologies Technology Services: IT Modernization Customers: FAA DOC Lets make life better! rigil  Management & training solutions that raise workforce engagement improve customer experience & deliver long term value. Coaching & team building Organizational development Gamiﬁcation of training content Facilitation Performance metrics formulation & measurement Strategy Services: Human Capital and Training Solutions Customers: FAA DOC Lets make life better! rigil  Facilitation of large groups & leadership teams Business Process Analysis Reengineering & Management PMO support Technology Business Management (TBM) consulting Strategic consulting that results in vision/strategy & roadmaps to advance organizations Cost-beneﬁt analysis Administrative support for executives & managers Change management & communications support Strategy Services: Management Consulting Customers: DHS DOC DOL DOJ FAA Lets make life better! rigil  Rigil Services: Financial Management Budget management Accounts Payable Invoice processing Cost/beneﬁt analysis Earned Value Management with analysis Customers:  DOC DOL FAA NOAA Lets make life better! rigil  Rigil Products - iViews iViewsTM is a workﬂow automation platform designed to enable collaboration among distributed teams tools systems and processes. iViewsTM removes redundancy increases eﬃciency and provides relevant information for you and your stakeholders at the right place in the right format and the right time. Functional Areas TBM automation Budget Planning Budget Execution Budget Spend Management Contract Records Management Program Performance Management Invoicing Management Budget Performance Reporting Customers: DOC FAA Lets make life better! rigil  Key Beneﬁts: Lets make life better! rigil  course-correcting decisions Contract Oﬃcers TBM automation - AI based TBM module automates TBM categorization of data Real Time Budget Spend Management - Eﬀective storage update and tracking of programs spending proﬁles Data Call Management - Ability to aggregate programs budget contracts & program data accessible quickly Eﬃcient Data Integration - Integration and management of budget data and contract records allowing for daily spend tracking invoicing processing and seamless contracts renewals closeouts etc. Budget & Contract Data Transparency - Tailoring of Budget Dashboards and Spend Status Reports Eﬀective Budget Governance - Accurate status update reporting allows leadership to anticipate events and proactively make Data Analytics - Ability to conduct budget trending and forecasting analysis quickly and accurately down to spending single-line-items Contract Records Management - Single repository for all contract records. Data updated and stored in real time. Data Accuracy - Budget and Contracts data is current accurate and reliable Collaboration Platform - Seamless process workﬂow management between key roles: Budget Analysts Program Managers and System Conﬁgurability - Modular design allows for functional improvement and/or customization quickly added to current platform Data Accessibility - Cloud Based System allows access to budget and contract data from anywhere and from any authorized device Rigil Products - iViews Rigil Products - StrataGem Mission-Oriented Gaming Platform Gamiﬁcation of mission-based training content Mobile delivery Device agnostic - iPad Android Web Enterprise data store Results-driven Leaderboards & Dashboards Scaﬀolded & Adaptive Learning Learner & Trainer focused eLearning Platform Trainer content addition/changes made easy Local content can be added or updated on the spot Customers:  FAA Navy Lets make life better! rigil  Rigil Major IDIQ/GWAC Vehicles Lets make life better! rigil  About Rigil Key clients: DCAA-audited Accounting System Facility Clearance  Top Secret Woman-Owned Small Business (WOSB) Minority-Owned Business SBA Economically Disadvantaged Woman-Owned Small Business (EDWOSB) DUNS:  CAGE: QV NAICS:              Lets make life better! rigil '"
      ]
     },
     "execution_count": 18,
     "metadata": {},
     "output_type": "execute_result"
    }
   ],
   "source": [
    "def text_cleaning(text_data):\n",
    "    import re\n",
    "    import string\n",
    "    text_data=re.sub(r'\\s+', ' ', text_data[0])\n",
    "    text_data=re.sub(r'[0-9]+', '', text_data)\n",
    "    text_data=re.sub(r',','',text_data)\n",
    "    text_data=re.sub('<[^>]+?>', '', text_data)\n",
    "    text_data = \"\".join([ch for ch in text_data if ch.isalnum() or ch in string.punctuation or ch.isspace()])\n",
    "    text_data=text_data.replace('www.','').replace('.com','')\n",
    "    return text_data"
   ]
  },
  {
   "cell_type": "code",
   "execution_count": null,
   "metadata": {},
   "outputs": [],
   "source": []
  }
 ],
 "metadata": {
  "interpreter": {
   "hash": "dea6c5689086dc475d04cf0227d1eb8df198d2f5ef9f09a4259a952c92be6c2d"
  },
  "kernelspec": {
   "display_name": "Python 3.9.0 64-bit ('fastapi': conda)",
   "language": "python",
   "name": "python3"
  },
  "language_info": {
   "codemirror_mode": {
    "name": "ipython",
    "version": 3
   },
   "file_extension": ".py",
   "mimetype": "text/x-python",
   "name": "python",
   "nbconvert_exporter": "python",
   "pygments_lexer": "ipython3",
   "version": "3.8.8"
  },
  "orig_nbformat": 4
 },
 "nbformat": 4,
 "nbformat_minor": 2
}
